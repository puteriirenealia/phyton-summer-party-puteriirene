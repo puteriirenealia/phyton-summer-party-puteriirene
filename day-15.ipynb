{
  "cells": [
    {
      "cell_type": "markdown",
      "metadata": {},
      "source": [
        "# Day 15: UberPool Driver Earnings Optimization Strategies"
      ]
    },
    {
      "cell_type": "markdown",
      "metadata": {},
      "source": [
        "You are a Business Analyst on the Uber Pool Product Team working to optimize driver compensation. The team aims to understand how trip characteristics impact driver earnings. Your goal is to develop data-driven recommendations that maximize driver earnings potential."
      ]
    },
    {
      "cell_type": "code",
      "metadata": {},
      "execution_count": null,
      "outputs": [],
      "source": "import pandas as pd\nimport numpy as np\n\nfct_trips_data = [\n  {\n    \"trip_id\": 101,\n    \"driver_id\": 1,\n    \"ride_type\": \"UberPool\",\n    \"trip_date\": \"2024-07-05\",\n    \"rider_count\": 3,\n    \"total_distance\": 10.5,\n    \"total_earnings\": 22.5\n  },\n  {\n    \"trip_id\": 102,\n    \"driver_id\": 1,\n    \"ride_type\": \"UberPool\",\n    \"trip_date\": \"2024-07-15\",\n    \"rider_count\": 2,\n    \"total_distance\": 8,\n    \"total_earnings\": 18\n  },\n  {\n    \"trip_id\": 103,\n    \"driver_id\": 2,\n    \"ride_type\": \"UberPool\",\n    \"trip_date\": \"2024-08-10\",\n    \"rider_count\": 4,\n    \"total_distance\": 15,\n    \"total_earnings\": 35\n  },\n  {\n    \"trip_id\": 104,\n    \"driver_id\": 3,\n    \"ride_type\": \"UberX\",\n    \"trip_date\": \"2024-07-20\",\n    \"rider_count\": 1,\n    \"total_distance\": 5,\n    \"total_earnings\": 12\n  },\n  {\n    \"trip_id\": 105,\n    \"driver_id\": 2,\n    \"ride_type\": \"UberPool\",\n    \"trip_date\": \"2024-09-01\",\n    \"rider_count\": 3,\n    \"total_distance\": 12,\n    \"total_earnings\": 30\n  },\n  {\n    \"trip_id\": 106,\n    \"driver_id\": 4,\n    \"ride_type\": \"UberPool\",\n    \"trip_date\": \"2024-09-15\",\n    \"rider_count\": 5,\n    \"total_distance\": 20,\n    \"total_earnings\": 50\n  },\n  {\n    \"trip_id\": 107,\n    \"driver_id\": 4,\n    \"ride_type\": \"UberPool\",\n    \"trip_date\": \"2024-10-01\",\n    \"rider_count\": 3,\n    \"total_distance\": 9,\n    \"total_earnings\": 25\n  },\n  {\n    \"trip_id\": 108,\n    \"driver_id\": 5,\n    \"ride_type\": \"UberPool\",\n    \"trip_date\": \"2024-08-25\",\n    \"rider_count\": 4,\n    \"total_distance\": 11,\n    \"total_earnings\": 28\n  },\n  {\n    \"trip_id\": 109,\n    \"driver_id\": 1,\n    \"ride_type\": \"UberPool\",\n    \"trip_date\": \"2024-09-30\",\n    \"rider_count\": 3,\n    \"total_distance\": 6,\n    \"total_earnings\": 16\n  },\n  {\n    \"trip_id\": 110,\n    \"driver_id\": 2,\n    \"ride_type\": \"UberPool\",\n    \"trip_date\": \"2024-07-07\",\n    \"rider_count\": 2,\n    \"total_distance\": 7,\n    \"total_earnings\": 15\n  },\n  {\n    \"trip_id\": 111,\n    \"driver_id\": 3,\n    \"ride_type\": \"UberPool\",\n    \"trip_date\": \"2024-08-05\",\n    \"rider_count\": 4,\n    \"total_distance\": 13,\n    \"total_earnings\": 32\n  },\n  {\n    \"trip_id\": 112,\n    \"driver_id\": 5,\n    \"ride_type\": \"UberX\",\n    \"trip_date\": \"2024-09-10\",\n    \"rider_count\": 1,\n    \"total_distance\": 4,\n    \"total_earnings\": 10\n  },\n  {\n    \"trip_id\": 113,\n    \"driver_id\": 6,\n    \"ride_type\": \"UberPool\",\n    \"trip_date\": \"2024-07-30\",\n    \"rider_count\": 3,\n    \"total_distance\": 22,\n    \"total_earnings\": 45\n  },\n  {\n    \"trip_id\": 114,\n    \"driver_id\": 6,\n    \"ride_type\": \"UberPool\",\n    \"trip_date\": \"2024-08-22\",\n    \"rider_count\": 4,\n    \"total_distance\": 18,\n    \"total_earnings\": 42\n  },\n  {\n    \"trip_id\": 115,\n    \"driver_id\": 7,\n    \"ride_type\": \"UberPool\",\n    \"trip_date\": \"2024-09-21\",\n    \"rider_count\": 5,\n    \"total_distance\": 25,\n    \"total_earnings\": 60\n  }\n]\nfct_trips = pd.DataFrame(fct_trips_data)\n"
    },
    {
      "cell_type": "markdown",
      "metadata": {},
      "source": [
        "## Question 1\n\nWhat is the average driver earnings per completed UberPool ride with more than two riders between July 1st and September 30th, 2024? This analysis will help isolate trips that meet specific rider thresholds to understand their impact on driver earnings."
      ]
    },
    {
      "cell_type": "code",
      "metadata": {},
      "execution_count": null,
      "outputs": [],
      "source": "fct_trips['trip_date'] = pd.to_datetime(fct_trips['trip_date'])\n# Filter July 1st and September 30th, 2024\njuly_september_trips = fct_trips[(fct_trips['trip_date'] >= '2024-07-01') & (fct_trips['trip_date'] <= '2024-09-30')]\n# Filter trips with more than two riders\ntrips_more_than_two_riders = july_september_trips[july_september_trips['rider_count'] > 2]\n# Filter UberPool driver\nUberPool_trips = trips_more_than_two_riders[trips_more_than_two_riders['ride_type'] == 'UberPool']\n# Calculate average driver earnings\naverage_driver_earnings = UberPool_trips['total_earnings'].mean()\naverage_driver_earnings"
    },
    {
      "cell_type": "markdown",
      "metadata": {},
      "source": [
        "## Question 2\n\nFor completed UberPool rides between July 1st and September 30th, 2024, derive a new column calculating earnings per mile (total_earnings divided by total_distance) and then compute the average earnings per mile for rides with more than two riders. This calculation will reveal efficiency metrics for driver compensation."
      ]
    },
    {
      "cell_type": "code",
      "metadata": {},
      "execution_count": null,
      "outputs": [],
      "source": "fct_trips['trip_date'] = pd.to_datetime(fct_trips['trip_date'])\n# Filter July 1st and September 30th, 2024\njuly_september_trips = fct_trips[(fct_trips['trip_date'] >= '2024-07-01') & (fct_trips['trip_date'] <= '2024-09-30')]\n# Filter trips with more than two riders\ntrips_more_than_two_riders = july_september_trips[july_september_trips['rider_count'] > 2]\n# Filter UberPool driver\nUberPool_trips = trips_more_than_two_riders[trips_more_than_two_riders['ride_type'] == 'UberPool']\n#Calculate earnings per mile and average earnings per mile for rides with more than two riders\n#Calculate earnings per mile and average earnings per mile for rides with more than two riders\nUberPool_trips['earnings_per_mile'] = UberPool_trips['total_earnings'] / UberPool_trips['total_distance']\nUberPool_trips = UberPool_trips[UberPool_trips['total_distance'] > 0]  # Avoid division by zero\n\nearnings_per_mile_avg = UberPool_trips['earnings_per_mile'].mean().round(2)\nprint(UberPool_trips.head())\nearnings_per_mile_avg"
    },
    {
      "cell_type": "markdown",
      "metadata": {},
      "source": [
        "## Question 3\n\nIdentify the combination of rider count and total distance that results in the highest average driver earnings per UberPool ride between July 1st and September 30th, 2024. This analysis directly recommends optimal trip combination strategies to maximize driver earnings."
      ]
    },
    {
      "cell_type": "code",
      "metadata": {},
      "execution_count": null,
      "outputs": [],
      "source": "fct_trips['trip_date'] = pd.to_datetime(fct_trips['trip_date'])\n# Filter July 1st and September 30th, 2024\njuly_september_trips = fct_trips[(fct_trips['trip_date'] >= '2024-07-01') & (fct_trips['trip_date'] <= '2024-09-30')]\n#Filter UberPool trips\nUberPool_trips = july_september_trips[july_september_trips['ride_type'] == 'UberPool']\n# Identify combination of rider_count and total_distance with the highest average earnings\navg_earnings_per_combination = UberPool_trips.groupby(['rider_count', 'total_distance'])['total_earnings'].mean().reset_index()\navg_earnings_per_combination = avg_earnings_per_combination.sort_values(by='total_earnings', ascending=False)\nhighest_avg_earning_combination = avg_earnings_per_combination.iloc[0]\nhighest_avg_earning_combination"
    },
    {
      "cell_type": "markdown",
      "metadata": {},
      "source": [
        "Made with ❤️ by [Interview Master](https://www.interviewmaster.ai)"
      ]
    }
  ],
  "metadata": {
    "kernelspec": {
      "name": "python3",
      "language": "python",
      "display_name": "Python 3"
    },
    "language_info": {
      "name": "python",
      "version": "3",
      "mimetype": "text/x-python",
      "file_extension": ".py"
    }
  },
  "nbformat": 4,
  "nbformat_minor": 5
}