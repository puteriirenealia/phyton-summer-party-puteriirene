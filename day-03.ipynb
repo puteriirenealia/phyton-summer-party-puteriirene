{
  "cells": [
    {
      "cell_type": "markdown",
      "metadata": {},
      "source": [
        "# Day 3: Disney Parks Guest Spending Behavior"
      ]
    },
    {
      "cell_type": "markdown",
      "metadata": {},
      "source": [
        "You are a data analyst working with the Disney Parks revenue team to understand nuanced guest spending patterns across different park experiences. The team wants to develop a comprehensive view of visitor purchasing behaviors. Your goal is to uncover meaningful insights that can drive personalized marketing strategies."
      ]
    },
    {
      "cell_type": "code",
      "metadata": {},
      "execution_count": null,
      "outputs": [],
      "source": "import pandas as pd\nimport numpy as np\n\nfct_guest_spending_data = [\n  {\n    \"guest_id\": 1,\n    \"visit_date\": \"2024-07-05\",\n    \"amount_spent\": 50,\n    \"park_experience_type\": \"Attraction\"\n  },\n  {\n    \"guest_id\": 2,\n    \"visit_date\": \"2024-07-06\",\n    \"amount_spent\": 30,\n    \"park_experience_type\": \"Dining\"\n  },\n  {\n    \"guest_id\": 3,\n    \"visit_date\": \"2024-07-10\",\n    \"amount_spent\": 20.5,\n    \"park_experience_type\": \"Retail\"\n  },\n  {\n    \"guest_id\": 4,\n    \"visit_date\": \"2024-07-12\",\n    \"amount_spent\": 40,\n    \"park_experience_type\": \"Entertainment\"\n  },\n  {\n    \"guest_id\": 1,\n    \"visit_date\": \"2024-07-15\",\n    \"amount_spent\": 35,\n    \"park_experience_type\": \"Dining\"\n  },\n  {\n    \"guest_id\": 5,\n    \"visit_date\": \"2024-07-20\",\n    \"amount_spent\": 60,\n    \"park_experience_type\": \"Attraction\"\n  },\n  {\n    \"guest_id\": 6,\n    \"visit_date\": \"2024-07-25\",\n    \"amount_spent\": 25,\n    \"park_experience_type\": \"Retail\"\n  },\n  {\n    \"guest_id\": 1,\n    \"visit_date\": \"2024-08-03\",\n    \"amount_spent\": 55,\n    \"park_experience_type\": \"Attraction\"\n  },\n  {\n    \"guest_id\": 1,\n    \"visit_date\": \"2024-08-15\",\n    \"amount_spent\": 45,\n    \"park_experience_type\": \"Dining\"\n  },\n  {\n    \"guest_id\": 2,\n    \"visit_date\": \"2024-08-05\",\n    \"amount_spent\": 22,\n    \"park_experience_type\": \"Retail\"\n  },\n  {\n    \"guest_id\": 2,\n    \"visit_date\": \"2024-08-20\",\n    \"amount_spent\": 38,\n    \"park_experience_type\": \"Entertainment\"\n  },\n  {\n    \"guest_id\": 7,\n    \"visit_date\": \"2024-08-10\",\n    \"amount_spent\": 15,\n    \"park_experience_type\": \"Character Meet\"\n  },\n  {\n    \"guest_id\": 3,\n    \"visit_date\": \"2024-08-25\",\n    \"amount_spent\": 28,\n    \"park_experience_type\": \"Retail\"\n  },\n  {\n    \"guest_id\": 3,\n    \"visit_date\": \"2024-08-27\",\n    \"amount_spent\": 32,\n    \"park_experience_type\": \"Dining\"\n  },\n  {\n    \"guest_id\": 1,\n    \"visit_date\": \"2024-09-02\",\n    \"amount_spent\": 65,\n    \"park_experience_type\": \"Attraction\"\n  },\n  {\n    \"guest_id\": 8,\n    \"visit_date\": \"2024-09-05\",\n    \"amount_spent\": 50,\n    \"park_experience_type\": \"Retail\"\n  },\n  {\n    \"guest_id\": 9,\n    \"visit_date\": \"2024-09-15\",\n    \"amount_spent\": 40,\n    \"park_experience_type\": \"Dining\"\n  },\n  {\n    \"guest_id\": 10,\n    \"visit_date\": \"2024-09-20\",\n    \"amount_spent\": 70,\n    \"park_experience_type\": \"Entertainment\"\n  },\n  {\n    \"guest_id\": 1,\n    \"visit_date\": \"2024-09-25\",\n    \"amount_spent\": 35,\n    \"park_experience_type\": \"Dining\"\n  },\n  {\n    \"guest_id\": 8,\n    \"visit_date\": \"2024-09-28\",\n    \"amount_spent\": 10,\n    \"park_experience_type\": \"Character Meet\"\n  }\n]\nfct_guest_spending = pd.DataFrame(fct_guest_spending_data)\n"
    },
    {
      "cell_type": "markdown",
      "metadata": {},
      "source": [
        "## Question 1\n\nWhat is the average spending per guest per visit for each park experience type during July 2024? Ensure that park experience types with no recorded transactions are shown with an average spending of 0.0. This analysis helps establish baseline spending differences essential for later segmentation."
      ]
    },
    {
      "cell_type": "code",
      "metadata": {},
      "execution_count": null,
      "outputs": [],
      "source": "#Guest visit on July 2024\nfct_guest_spending['visit_date'] = pd.to_datetime(fct_guest_spending['visit_date'])\n# Filter for July 2024\njuly_2024_df = fct_guest_spending[fct_guest_spending['visit_date'].dt.strftime('%Y-%m') == '2024-07'].copy()\n# Get all park types from entire dataset\nall_park_types = fct_guest_spending['park_experience_type'].unique()\n# Calculate the average spending per guest for each park in July 2024\njuly_averages = july_2024_df.groupby('park_experience_type')['amount_spent'].mean()\n# Reindex to include all types, filling missing with 0.0\nresult = july_averages.reindex(all_park_types, fill_value=0.0).reset_index()\nresult"
    },
    {
      "cell_type": "markdown",
      "metadata": {},
      "source": [
        "## Question 2\n\nFor guests who visited our parks more than once in August 2024, what is the difference in spending between their first and their last visit? This investigation, using sequential analysis, will reveal any shifts in guest spending behavior over multiple visits."
      ]
    },
    {
      "cell_type": "code",
      "metadata": {},
      "execution_count": null,
      "outputs": [],
      "source": "# Filter for guests who visited in August 2024\naugust_2024_df = fct_guest_spending[fct_guest_spending['visit_date'].dt.strftime('%Y-%m') == '2024-08'].copy()\n\n# Sort by guest_id and visit_date to ensure chronological order\naugust_2024_df.sort_values(by=['guest_id', 'visit_date'], inplace=True)\n\n# Filter for guests who visited more than once\naugust_2024_df = august_2024_df.groupby('guest_id').filter(lambda x: len(x) > 1)\n# The difference in spending between the first and last visit\nfirst_last_spending = august_2024_df.groupby('guest_id').agg(\n    first_spending=('amount_spent', 'first'),\n    last_spending=('amount_spent', 'last')\n).reset_index()\nfirst_last_spending['spending_difference'] = first_last_spending['last_spending'] - first_last_spending['first_spending']\n\nfirst_last_spending"
    },
    {
      "cell_type": "markdown",
      "metadata": {},
      "source": [
        "## Question 3\n\nIn September 2024, how can guests be categorized into distinct spending segments such as Low, Medium, and High based on their total spending? Use the following thresholds for categorization: \n-Low: Includes values from $0 up to, but not including, $50.\n-Medium: Includes values from $50 up to, but not including, $100.\n-High: Includes values from $100 and above. \nExclude guests who did not make any purchases in the period."
      ]
    },
    {
      "cell_type": "code",
      "metadata": {},
      "execution_count": null,
      "outputs": [],
      "source": "#FIlter for September 2024\nseptember_2024_df = fct_guest_spending[fct_guest_spending['visit_date'].dt.strftime('%Y-%m') == '2024-09'].copy()\n# Step 2: Calculate TOTAL spending per guest (sum all transactions)\nguest_totals = september_2024_df.groupby('guest_id')['amount_spent'].sum().reset_index()\nguest_totals.rename(columns={'amount_spent': 'total_spending'}, inplace=True)\n\n# Step 3: Exclude guests with no purchases ($0 spending)\nguests_with_purchases = guest_totals[guest_totals['total_spending'] > 0].copy()\n\n# Step 4: Categorize into spending segments\nguests_with_purchases['spending_segment'] = pd.cut(\n    guests_with_purchases['total_spending'],\n    bins=[0, 50, 100, np.inf],           # [0,50), [50,100), [100,∞)\n    labels=['Low', 'Medium', 'High'],    # Category names\n    right=False,                         # Left-closed, right-open intervals\n    include_lowest=True                  # Handle boundary cases properly\n)\n\n# Step 5: Count guests in each segment\nspending_segments = guests_with_purchases['spending_segment'].value_counts().reset_index()\nspending_segments.columns = ['spending_segment', 'guest_count']\nspending_segments = spending_segments.sort_values('spending_segment')\n\nprint(\"Guest Spending Segmentation Results:\")\nprint(spending_segments)"
    },
    {
      "cell_type": "markdown",
      "metadata": {},
      "source": [
        "Made with ❤️ by [Interview Master](https://www.interviewmaster.ai)"
      ]
    }
  ],
  "metadata": {
    "kernelspec": {
      "name": "python3",
      "language": "python",
      "display_name": "Python 3"
    },
    "language_info": {
      "name": "python",
      "version": "3",
      "mimetype": "text/x-python",
      "file_extension": ".py"
    }
  },
  "nbformat": 4,
  "nbformat_minor": 5
}