{
  "cells": [
    {
      "cell_type": "markdown",
      "metadata": {},
      "source": [
        "# Day 7: Celebrity Product Drops Sales Performance Analysis"
      ]
    },
    {
      "cell_type": "markdown",
      "metadata": {},
      "source": [
        "You are a Product Analyst working on Nike's marketing performance team. Your team wants to evaluate the effectiveness of celebrity product collaborations by analyzing sales data. You will investigate the performance of celebrity product drops to inform future marketing strategies."
      ]
    },
    {
      "cell_type": "code",
      "metadata": {},
      "execution_count": null,
      "outputs": [],
      "source": "import pandas as pd\nimport numpy as np\n\nfct_sales_data = [\n  {\n    \"sale_id\": 1,\n    \"sale_date\": \"2025-01-10\",\n    \"product_id\": 901,\n    \"sale_amount\": null,\n    \"celebrity_id\": 101\n  },\n  {\n    \"sale_id\": 2,\n    \"sale_date\": \"2025-01-15\",\n    \"product_id\": 901,\n    \"sale_amount\": 1500,\n    \"celebrity_id\": 101\n  },\n  {\n    \"sale_id\": 3,\n    \"sale_date\": \"2025-02-03\",\n    \"product_id\": 902,\n    \"sale_amount\": 2000.5,\n    \"celebrity_id\": 102\n  },\n  {\n    \"sale_id\": 4,\n    \"sale_date\": \"2025-03-12\",\n    \"product_id\": 903,\n    \"sale_amount\": 2500.75,\n    \"celebrity_id\": 103\n  },\n  {\n    \"sale_id\": 5,\n    \"sale_date\": \"2025-03-20\",\n    \"product_id\": 904,\n    \"sale_amount\": null,\n    \"celebrity_id\": 104\n  },\n  {\n    \"sale_id\": 6,\n    \"sale_date\": \"2025-02-28\",\n    \"product_id\": 901,\n    \"sale_amount\": 1000,\n    \"celebrity_id\": 101\n  },\n  {\n    \"sale_id\": 7,\n    \"sale_date\": \"2025-03-25\",\n    \"product_id\": 902,\n    \"sale_amount\": 300,\n    \"celebrity_id\": 102\n  },\n  {\n    \"sale_id\": 8,\n    \"sale_date\": \"2025-03-30\",\n    \"product_id\": 905,\n    \"sale_amount\": 1800,\n    \"celebrity_id\": 105\n  },\n  {\n    \"sale_id\": 9,\n    \"sale_date\": \"2025-01-20\",\n    \"product_id\": 903,\n    \"sale_amount\": 1200,\n    \"celebrity_id\": 103\n  },\n  {\n    \"sale_id\": 10,\n    \"sale_date\": \"2025-02-05\",\n    \"product_id\": 906,\n    \"sale_amount\": 500,\n    \"celebrity_id\": 106\n  },\n  {\n    \"sale_id\": 11,\n    \"sale_date\": \"2025-03-01\",\n    \"product_id\": 907,\n    \"sale_amount\": 2200,\n    \"celebrity_id\": 107\n  },\n  {\n    \"sale_id\": 12,\n    \"sale_date\": \"2025-02-15\",\n    \"product_id\": 908,\n    \"sale_amount\": 1300,\n    \"celebrity_id\": 101\n  },\n  {\n    \"sale_id\": 13,\n    \"sale_date\": \"2025-03-15\",\n    \"product_id\": 909,\n    \"sale_amount\": null,\n    \"celebrity_id\": 102\n  },\n  {\n    \"sale_id\": 14,\n    \"sale_date\": \"2025-01-25\",\n    \"product_id\": 910,\n    \"sale_amount\": 900,\n    \"celebrity_id\": 108\n  },\n  {\n    \"sale_id\": 15,\n    \"sale_date\": \"2025-02-20\",\n    \"product_id\": 905,\n    \"sale_amount\": 700,\n    \"celebrity_id\": 105\n  },\n  {\n    \"sale_id\": 16,\n    \"sale_date\": \"2025-03-28\",\n    \"product_id\": 902,\n    \"sale_amount\": 1500,\n    \"celebrity_id\": 102\n  },\n  {\n    \"sale_id\": 17,\n    \"sale_date\": \"2024-11-15\",\n    \"product_id\": 901,\n    \"sale_amount\": 800,\n    \"celebrity_id\": 101\n  },\n  {\n    \"sale_id\": 18,\n    \"sale_date\": \"2024-07-30\",\n    \"product_id\": 902,\n    \"sale_amount\": 1000,\n    \"celebrity_id\": 102\n  },\n  {\n    \"sale_id\": 19,\n    \"sale_date\": \"2025-04-10\",\n    \"product_id\": 905,\n    \"sale_amount\": 2000,\n    \"celebrity_id\": 105\n  },\n  {\n    \"sale_id\": 20,\n    \"sale_date\": \"2024-09-05\",\n    \"product_id\": 903,\n    \"sale_amount\": 1100,\n    \"celebrity_id\": 103\n  }\n]\nfct_sales = pd.DataFrame(fct_sales_data)\n"
    },
    {
      "cell_type": "markdown",
      "metadata": {},
      "source": [
        "## Question 1\n\nFor Q1 2025 (January 1st through March 31st, 2025), can you identify all records of celebrity collaborations from the sales data where the sale_amount is missing? This will help us flag incomplete records that could impact the analysis of Nike's product performance."
      ]
    },
    {
      "cell_type": "code",
      "metadata": {},
      "execution_count": null,
      "outputs": [],
      "source": "fct_sales['sale_date'] = pd.to_datetime(fct_sales['sale_date'])\n# Filter for Q1 2025 and missing sale_amount\nq1_2025_missing_sales = fct_sales[(fct_sales['sale_date'] >= '2025-01-01') &\n                                    (fct_sales['sale_date'] <= '2025-03-31') &\n                                    (fct_sales['sale_amount'].isnull())]\nprint(f\"Number of records with missing sale_amount in Q1 2025: {q1_2025_missing_sales.shape[0]}\")\nq1_2025_missing_sales"
    },
    {
      "cell_type": "markdown",
      "metadata": {},
      "source": [
        "## Question 2\n\nFor Q1 2025 (January 1st through March 31st, 2025), can you list the unique combinations of celebrity_id and product_id from the sales table? This will ensure that each collaboration is accurately accounted for in the analysis of Nike's marketing performance."
      ]
    },
    {
      "cell_type": "code",
      "metadata": {},
      "execution_count": null,
      "outputs": [],
      "source": "# Filter for Q1 2025\nq1_2025_sales = fct_sales[(fct_sales['sale_date'] >= '2025-01-01') &\n                           (fct_sales['sale_date'] <= '2025-03-31')]\n                    \n# Check for missing values and duplicates in celebrity and product_id columns\nmissing_celebrity = q1_2025_sales[q1_2025_sales['celebrity_id'].isnull()]\nmissing_product_id = q1_2025_sales[q1_2025_sales['product_id'].isnull()]\nduplicates = q1_2025_sales[q1_2025_sales.duplicated(subset=['celebrity_id', 'product_id'], keep=False)]\n\nprint(f\"Number of records with missing celebrity in Q1 2025: {missing_celebrity.shape[0]}\")\nprint(f\"Number of records with missing product_id in Q1 2025: {missing_product_id.shape[0]}\")\nprint(f\"Number of duplicate records in Q1 2025: {duplicates.shape[0]}\")\n\n# Remove records with missing celebrity or product_id\nq1_2025_cleaned = q1_2025_sales.dropna(subset=['celebrity_id', 'product_id'])\n\n# Remove duplicates\nq1_2025_cleaned = q1_2025_cleaned.drop_duplicates(subset=['celebrity_id', 'product_id'])\n\n# Unique combinations of celebrity_id and product_id counts in Q1 2025\ncombination_counts = q1_2025_sales.groupby(['celebrity_id', 'product_id']).size().reset_index(name='transaction_count')\n\n# Fix: Use combination_counts instead of undefined unique_combinations\nprint(f\"Number of unique celebrity and product_id combinations in Q1 2025: {combination_counts.shape[0]}\")\n\n# Display the unique combinations with their transaction counts\nprint(\"Unique celebrity-product combinations:\")\nprint(combination_counts.head(20))\n\n# Optional: Sort by transaction count to see most popular combinations\ncombination_counts_sorted = combination_counts.sort_values('transaction_count', ascending=False)"
    },
    {
      "cell_type": "markdown",
      "metadata": {},
      "source": [
        "## Question 3\n\nFor Q1 2025 (January 1st through March 31st, 2025), can you rank the unique celebrity collaborations based on their total sales amounts and list the top 3 collaborations in descending order? This will help recommend the most successful partnerships for Nike's future product drop strategies."
      ]
    },
    {
      "cell_type": "code",
      "metadata": {},
      "execution_count": null,
      "outputs": [],
      "source": "# Check missing and duplicates celebrity_id and sale_amount records\nmissing_celebrity_id = q1_2025_cleaned[q1_2025_cleaned['celebrity_id'].isnull()]\nmissing_sale_amount = q1_2025_cleaned[q1_2025_cleaned['sale_amount'].isnull()]\nduplicates = q1_2025_sales[q1_2025_sales.duplicated(subset=['celebrity_id', 'sale_amount'], keep=False)]\n\n# Remove records with missing celebrity_id or sale_amount\nq1_2025_cleaned = q1_2025_cleaned.dropna(subset=['celebrity_id', 'sale_amount'])\n# Remove duplicates\nq1_2025_cleaned = q1_2025_cleaned.drop_duplicates(subset=['celebrity_id', 'sale_amount'])\n\n# Calculate unique celebrity_id and their total sales amounts\nunique_celebrity_sales = q1_2025_cleaned.groupby('celebrity_id')['sale_amount'].sum().reset_index()\n\n# Sort total sales amounts in descending order\nunique_celebrity_sales_sorted = unique_celebrity_sales.sort_values('sale_amount', ascending=False)\nunique_celebrity_sales_sorted.reset_index(drop=True, inplace=True)\nprint(f\"\\nTop 3 celebrities by total sales amount in Q1 2025:\")\nprint(unique_celebrity_sales_sorted.head(3))"
    },
    {
      "cell_type": "markdown",
      "metadata": {},
      "source": [
        "Made with ❤️ by [Interview Master](https://www.interviewmaster.ai)"
      ]
    }
  ],
  "metadata": {
    "kernelspec": {
      "name": "python3",
      "language": "python",
      "display_name": "Python 3"
    },
    "language_info": {
      "name": "python",
      "version": "3",
      "mimetype": "text/x-python",
      "file_extension": ".py"
    }
  },
  "nbformat": 4,
  "nbformat_minor": 5
}