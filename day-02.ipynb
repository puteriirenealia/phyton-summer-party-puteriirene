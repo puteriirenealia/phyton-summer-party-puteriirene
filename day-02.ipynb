{
  "cells": [
    {
      "cell_type": "markdown",
      "metadata": {},
      "source": [
        "# Day 2: Sponsored Posts Click Performance"
      ]
    },
    {
      "cell_type": "markdown",
      "metadata": {},
      "source": [
        "You are a Product Analyst on the Amazon Sponsored Advertising team investigating sponsored product ad engagement across electronics categories. Your team wants to understand CTR variations to optimize targeted advertising strategies."
      ]
    },
    {
      "cell_type": "code",
      "metadata": {},
      "execution_count": null,
      "outputs": [],
      "source": "import pandas as pd\nimport numpy as np\n\ndim_product_data = [\n  {\n    \"product_id\": 1,\n    \"product_name\": \"Smart TV\",\n    \"product_category\": \"Home Electronics\"\n  },\n  {\n    \"product_id\": 2,\n    \"product_name\": \"Wireless Earbuds\",\n    \"product_category\": \"Electronics & Gadgets\"\n  },\n  {\n    \"product_id\": 3,\n    \"product_name\": \"Refrigerator\",\n    \"product_category\": \"Electronics Appliances\"\n  },\n  {\n    \"product_id\": 4,\n    \"product_name\": \"Bestselling Novel\",\n    \"product_category\": \"Books\"\n  },\n  {\n    \"product_id\": 5,\n    \"product_name\": \"Designer Jeans\",\n    \"product_category\": \"Fashion\"\n  },\n  {\n    \"product_id\": 6,\n    \"product_name\": \"Blender\",\n    \"product_category\": \"Kitchen\"\n  },\n  {\n    \"product_id\": 7,\n    \"product_name\": \"Tent\",\n    \"product_category\": \"Outdoor\"\n  },\n  {\n    \"product_id\": 8,\n    \"product_name\": \"Smart Home Hub\",\n    \"product_category\": \"Home Electronics\"\n  },\n  {\n    \"product_id\": 9,\n    \"product_name\": \"Phone Charger\",\n    \"product_category\": \"Electronics Accessories\"\n  },\n  {\n    \"product_id\": 10,\n    \"product_name\": \"Skincare Set\",\n    \"product_category\": \"Health & Beauty\"\n  },\n  {\n    \"product_id\": 11,\n    \"product_name\": \"Drone\",\n    \"product_category\": \"Electronics Gadgets\"\n  },\n  {\n    \"product_id\": 12,\n    \"product_name\": \"Car Charger\",\n    \"product_category\": \"Automotive\"\n  }\n]\ndim_product = pd.DataFrame(dim_product_data)\n\nfct_ad_performance_data = [\n  {\n    \"ad_id\": 101,\n    \"clicks\": 10,\n    \"product_id\": 1,\n    \"impressions\": 200,\n    \"recorded_date\": \"2024-10-02\"\n  },\n  {\n    \"ad_id\": 102,\n    \"clicks\": 15,\n    \"product_id\": 1,\n    \"impressions\": 300,\n    \"recorded_date\": \"2024-10-12\"\n  },\n  {\n    \"ad_id\": 103,\n    \"clicks\": 20,\n    \"product_id\": 2,\n    \"impressions\": 250,\n    \"recorded_date\": \"2024-10-05\"\n  },\n  {\n    \"ad_id\": 104,\n    \"clicks\": 18,\n    \"product_id\": 2,\n    \"impressions\": 230,\n    \"recorded_date\": \"2024-10-20\"\n  },\n  {\n    \"ad_id\": 105,\n    \"clicks\": 5,\n    \"product_id\": 3,\n    \"impressions\": 150,\n    \"recorded_date\": \"2024-10-15\"\n  },\n  {\n    \"ad_id\": 106,\n    \"clicks\": 12,\n    \"product_id\": 3,\n    \"impressions\": 180,\n    \"recorded_date\": \"2024-10-25\"\n  },\n  {\n    \"ad_id\": 107,\n    \"clicks\": 50,\n    \"product_id\": 4,\n    \"impressions\": 500,\n    \"recorded_date\": \"2024-10-07\"\n  },\n  {\n    \"ad_id\": 108,\n    \"clicks\": 8,\n    \"product_id\": 5,\n    \"impressions\": 250,\n    \"recorded_date\": \"2024-10-18\"\n  },\n  {\n    \"ad_id\": 109,\n    \"clicks\": 14,\n    \"product_id\": 6,\n    \"impressions\": 200,\n    \"recorded_date\": \"2024-10-10\"\n  },\n  {\n    \"ad_id\": 110,\n    \"clicks\": 22,\n    \"product_id\": 8,\n    \"impressions\": 220,\n    \"recorded_date\": \"2024-10-30\"\n  },\n  {\n    \"ad_id\": 111,\n    \"clicks\": 30,\n    \"product_id\": 9,\n    \"impressions\": 300,\n    \"recorded_date\": \"2024-10-08\"\n  },\n  {\n    \"ad_id\": 112,\n    \"clicks\": 7,\n    \"product_id\": 11,\n    \"impressions\": 120,\n    \"recorded_date\": \"2024-10-22\"\n  },\n  {\n    \"ad_id\": 113,\n    \"clicks\": 13,\n    \"product_id\": 11,\n    \"impressions\": 150,\n    \"recorded_date\": \"2024-10-28\"\n  },\n  {\n    \"ad_id\": 114,\n    \"clicks\": 9,\n    \"product_id\": 12,\n    \"impressions\": 190,\n    \"recorded_date\": \"2024-10-11\"\n  },\n  {\n    \"ad_id\": 115,\n    \"clicks\": 16,\n    \"product_id\": 2,\n    \"impressions\": 160,\n    \"recorded_date\": \"2024-11-01\"\n  }\n]\nfct_ad_performance = pd.DataFrame(fct_ad_performance_data)\n"
    },
    {
      "cell_type": "markdown",
      "metadata": {},
      "source": [
        "## Question 1\n\nWhat is the average click-through rate (CTR) for sponsored product ads for each product category that contains the substring 'Electronics' in its name during October 2024? This analysis will help determine which electronics-related categories are performing optimally."
      ]
    },
    {
      "cell_type": "code",
      "metadata": {},
      "execution_count": null,
      "outputs": [],
      "source": "merge_df=pd.merge(fct_ad_performance, dim_product, on='product_id')\nmerge_df['recorded_date']=pd.to_datetime(merge_df['recorded_date'])\noct2024_df = merge_df[merge_df['recorded_date'].dt.strftime('%Y-%m') == '2024-10'].copy()\nelectronic_df = oct2024_df[oct2024_df['product_category'].str.contains('Electronics', case=False)].copy()\nelectronic_df['ctr']=(electronic_df['clicks'] / electronic_df['impressions'])\naverage_ctr=electronic_df.groupby('product_category')['ctr'].mean()"
    },
    {
      "cell_type": "markdown",
      "metadata": {},
      "source": [
        "## Question 2\n\nWhich product categories have a CTR greater than the aggregated overall average CTR for sponsored product ads during October 2024? This analysis will identify high-performing categories for further optimization. For this question, we want to calculate CTR for each ad, then get the average across ads by product category & overall."
      ]
    },
    {
      "cell_type": "code",
      "metadata": {},
      "execution_count": null,
      "outputs": [],
      "source": "merge_df=pd.merge(fct_ad_performance, dim_product, on='product_id')\nmerge_df['recorded_date']=pd.to_datetime(merge_df['recorded_date'])\noct2024_df = merge_df[merge_df['recorded_date'].dt.strftime('%Y-%m') == '2024-10'].copy()\noct2024_df['ctr'] = oct2024_df['clicks'] / oct2024_df['impressions']\noverall_avg_ctr = oct2024_df['clicks'].sum() / oct2024_df['impressions'].sum()\ncategory_performance = oct2024_df.groupby('product_category')[['clicks', 'impressions']].sum()\ncategory_performance['ctr'] = category_performance['clicks'] / category_performance['impressions']\nhigh_performing_categories = category_performance['ctr'] > overall_avg_ctr\nhigh_performing_categories"
    },
    {
      "cell_type": "markdown",
      "metadata": {},
      "source": [
        "## Question 3\n\nFor the product categories identified in the previous question, what is the percentage difference between their CTR and the overall average CTR for October 2024? This analysis will quantify the performance gap to recommend specific categories for targeted advertising optimization."
      ]
    },
    {
      "cell_type": "code",
      "metadata": {},
      "execution_count": null,
      "outputs": [],
      "source": "high_performing_categories['pct_difference_vs_overall'] = \\\n    ((category_performance['ctr'] - overall_avg_ctr) / overall_avg_ctr) * 100"
    },
    {
      "cell_type": "markdown",
      "metadata": {},
      "source": [
        "Made with ❤️ by [Interview Master](https://www.interviewmaster.ai)"
      ]
    }
  ],
  "metadata": {
    "kernelspec": {
      "name": "python3",
      "language": "python",
      "display_name": "Python 3"
    },
    "language_info": {
      "name": "python",
      "version": "3",
      "mimetype": "text/x-python",
      "file_extension": ".py"
    }
  },
  "nbformat": 4,
  "nbformat_minor": 5
}